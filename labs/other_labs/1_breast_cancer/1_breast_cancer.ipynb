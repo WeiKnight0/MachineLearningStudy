{
 "cells": [
  {
   "metadata": {},
   "cell_type": "markdown",
   "source": [
    "# 使用Breast Cancer Wisconsin (Diagnostic) 数据集进行二分类\n",
    "\n",
    "知识点：\n",
    "- 逻辑回归\n",
    "- 数据归一化\n"
   ],
   "id": "8c40a12ddbb1dea8"
  },
  {
   "metadata": {
    "ExecuteTime": {
     "end_time": "2025-10-26T13:43:02.077358Z",
     "start_time": "2025-10-26T13:43:02.073564Z"
    }
   },
   "cell_type": "code",
   "source": [
    "import numpy as np\n",
    "from sklearn.datasets import load_breast_cancer\n",
    "from sklearn.model_selection import train_test_split\n",
    "from sklearn.metrics import classification_report"
   ],
   "id": "5b80a0cba1ecf4c6",
   "outputs": [],
   "execution_count": 3
  },
  {
   "metadata": {},
   "cell_type": "markdown",
   "source": "使用来自sklearn的数据集：Breast Cancer Wisconsin (Diagnostic) 数据集",
   "id": "55f95bc715e259ae"
  },
  {
   "metadata": {
    "ExecuteTime": {
     "end_time": "2025-10-26T13:43:02.122294Z",
     "start_time": "2025-10-26T13:43:02.111692Z"
    }
   },
   "cell_type": "code",
   "source": [
    "# 加载数据集\n",
    "data = load_breast_cancer()\n",
    "X = data.data\n",
    "y = data.target\n",
    "# 查看数据形状\n",
    "print(X.shape, y.shape)"
   ],
   "id": "b7d7ff63694cf72f",
   "outputs": [
    {
     "name": "stdout",
     "output_type": "stream",
     "text": [
      "(569, 30) (569,)\n"
     ]
    }
   ],
   "execution_count": 4
  },
  {
   "metadata": {},
   "cell_type": "markdown",
   "source": "数据预处理：包括归一化和划分训练集与测试集",
   "id": "9dcf1de350663da5"
  },
  {
   "metadata": {
    "ExecuteTime": {
     "end_time": "2025-10-26T13:43:02.140411Z",
     "start_time": "2025-10-26T13:43:02.132605Z"
    }
   },
   "cell_type": "code",
   "source": [
    "# 数据归一化：使用Z-score标准化\n",
    "X_mean = np.mean(X, axis=0)\n",
    "X_std = np.std(X, axis=0)\n",
    "X_normalized = (X - X_mean) / X_std\n",
    "# 划分训练集和测试集\n",
    "X_train, X_test, y_train, y_test = train_test_split(X_normalized, y, test_size=0.2, random_state=42)"
   ],
   "id": "c858017c4d760770",
   "outputs": [],
   "execution_count": 5
  },
  {
   "metadata": {},
   "cell_type": "markdown",
   "source": "实现逻辑回归模型，使用自定义的类和方法",
   "id": "d3308ccbb9aeb5eb"
  },
  {
   "metadata": {
    "ExecuteTime": {
     "end_time": "2025-10-26T13:43:02.177844Z",
     "start_time": "2025-10-26T13:43:02.170825Z"
    }
   },
   "cell_type": "code",
   "source": [
    "# 逻辑回归模型，不使用自带的库\n",
    "class MyLogisticRegression:\n",
    "    def __init__(self, learning_rate=0.01, n_iterations=1000):\n",
    "        self.learning_rate = learning_rate\n",
    "        self.n_iterations = n_iterations\n",
    "        self.weights = None\n",
    "        self.bias = None\n",
    "\n",
    "    def sigmoid(self, z):\n",
    "        return 1 / (1 + np.exp(-z))\n",
    "\n",
    "    def fit(self, X, y):\n",
    "        n_samples, n_features = X.shape\n",
    "        self.weights = np.zeros(n_features)\n",
    "        self.bias = 0\n",
    "\n",
    "        for _ in range(self.n_iterations):\n",
    "            linear_model = np.dot(X, self.weights) + self.bias\n",
    "            y_predicted = self.sigmoid(linear_model)\n",
    "\n",
    "            # 计算逻辑回归的梯度\n",
    "            dw = (1 / n_samples) * np.dot(X.T, (y_predicted - y))\n",
    "            db = (1 / n_samples) * np.sum(y_predicted - y)\n",
    "\n",
    "            # 更新权重和偏置\n",
    "            self.weights -= self.learning_rate * dw\n",
    "            self.bias -= self.learning_rate * db\n",
    "\n",
    "    def predict(self, X):\n",
    "        linear_model = np.dot(X, self.weights) + self.bias\n",
    "        y_predicted = self.sigmoid(linear_model)\n",
    "        y_predicted_cls = [1 if i > 0.5 else 0 for i in y_predicted]\n",
    "        return np.array(y_predicted_cls)"
   ],
   "id": "2f861d5c764667bc",
   "outputs": [],
   "execution_count": 6
  },
  {
   "metadata": {},
   "cell_type": "markdown",
   "source": "训练模型，并进行预测和评估",
   "id": "33e4311f6c9887c1"
  },
  {
   "metadata": {
    "ExecuteTime": {
     "end_time": "2025-10-26T13:43:02.238578Z",
     "start_time": "2025-10-26T13:43:02.202958Z"
    }
   },
   "cell_type": "code",
   "source": [
    "# 训练模型\n",
    "model = MyLogisticRegression(learning_rate=0.01, n_iterations=1000)\n",
    "model.fit(X_train, y_train)\n",
    "# 预测\n",
    "predictions = model.predict(X_test)\n",
    "# 计算准确率\n",
    "accuracy = np.sum(predictions == y_test) / len(y_test)\n",
    "print(f\"Accuracy: {accuracy * 100:.2f}%\")\n",
    "# 输出分类报告\n",
    "print(classification_report(y_test, predictions, target_names=data.target_names))"
   ],
   "id": "e298c921ebf063ca",
   "outputs": [
    {
     "name": "stdout",
     "output_type": "stream",
     "text": [
      "Accuracy: 99.12%\n",
      "              precision    recall  f1-score   support\n",
      "\n",
      "   malignant       1.00      0.98      0.99        43\n",
      "      benign       0.99      1.00      0.99        71\n",
      "\n",
      "    accuracy                           0.99       114\n",
      "   macro avg       0.99      0.99      0.99       114\n",
      "weighted avg       0.99      0.99      0.99       114\n",
      "\n"
     ]
    }
   ],
   "execution_count": 7
  }
 ],
 "metadata": {
  "kernelspec": {
   "name": "python3",
   "language": "python",
   "display_name": "Python 3 (ipykernel)"
  }
 },
 "nbformat": 4,
 "nbformat_minor": 5
}
