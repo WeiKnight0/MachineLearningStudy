{
 "cells": [
  {
   "metadata": {},
   "cell_type": "markdown",
   "source": "# 模型的评估和改进 Judgement and Improvement of Models",
   "id": "927b24abad2d469"
  },
  {
   "metadata": {},
   "cell_type": "markdown",
   "source": [
    "## 模型评估\n",
    "- 模型评估是机器学习中的关键步骤，用于衡量模型在训练数据和未见数据上的表现。\n",
    "- 平方差误差（Mean Squared Error, MSE）是回归任务中常用的评估指标。\n",
    "- 设训练集为$\\{(\\mathbf{x}^{(i)}, y^{(i)})\\}_{i=1}^{m_{train}}$，测试集为$\\{(\\mathbf{x}^{(j)}, y^{(j)})\\}_{j=1}^{m_{test}}$，模型预测函数为$f(\\mathbf{x})$，则训练误差和测试误差定义如下：\n",
    "$$\n",
    "MSE_{train} = \\frac{1}{m_{train}} \\sum_{i=1}^{m_{train}} (f(\\mathbf{x}^{(i)}) - y^{(i)})^2\n",
    "$$\n",
    "$$\n",
    "MSE_{test} = \\frac{1}{m_{test}} \\sum_{j=1}^{m_{test}} (f(\\mathbf{x}^{(j)}) - y^{(j)})^2\n",
    "$$\n",
    "- 通过比较训练误差和测试误差，可以判断模型效果。\n",
    "    - 若训练误差和测试误差都较低，说明模型表现良好。\n",
    "    - 若训练误差较低但测试误差较高，说明模型过拟合。\n",
    "    - 若训练误差和测试误差都较高，说明模型欠拟合。"
   ],
   "id": "5b467f4c642acf50"
  },
  {
   "metadata": {},
   "cell_type": "markdown",
   "source": "",
   "id": "e64a0683b0a6c6f"
  }
 ],
 "metadata": {
  "kernelspec": {
   "display_name": "Python 3",
   "language": "python",
   "name": "python3"
  },
  "language_info": {
   "codemirror_mode": {
    "name": "ipython",
    "version": 2
   },
   "file_extension": ".py",
   "mimetype": "text/x-python",
   "name": "python",
   "nbconvert_exporter": "python",
   "pygments_lexer": "ipython2",
   "version": "2.7.6"
  }
 },
 "nbformat": 4,
 "nbformat_minor": 5
}
