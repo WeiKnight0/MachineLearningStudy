{
 "cells": [
  {
   "metadata": {},
   "cell_type": "markdown",
   "source": [
    "\n",
    "# 神经网络 Neural Networks"
   ],
   "id": "ca553079a3d06639"
  },
  {
   "metadata": {},
   "cell_type": "markdown",
   "source": [
    "## 神经网路与大脑\n",
    "- 神经网络（Neural Networks）是一种受生物神经系统启发的计算模型。\n",
    "- 它由大量的节点（神经元）组成，这些节点通过连接（突触）相互作用。\n",
    "- 神经网络通过调整连接权重来学习和适应输入数据，从而实现模式识别、分类和预测等任务。\n",
    "- 神经网络的结构通常包括输入层、隐藏层和输出层，每一层由多个神经元组成。\n",
    "- 神经网络在图像识别、自然语言处理和游戏等领域取得了显著的成功，成为现代人工智能的重要组成部分。"
   ],
   "id": "acd6a94f27d8d5e5"
  },
  {
   "metadata": {},
   "cell_type": "markdown",
   "source": [
    "## 神经网络的基本结构\n",
    "- 神经网络由多个层次组成，主要包括输入层、隐藏层和输出层。\n",
    "- 输入层负责接收外部数据，将其传递给隐藏层进行处理。\n",
    "- 隐藏层包含多个神经元，这些神经元通过加权连接接收输入，并应用激活函数进行非线性变换。\n",
    "- 输出层将隐藏层的结果转换为最终输出，用于分类或回归任务。\n",
    "- 神经网络通过调整连接权重和偏置来学习数据中的模式，从而实现预测和决策。"
   ],
   "id": "c9e63c9774b90dc4"
  }
 ],
 "metadata": {
  "kernelspec": {
   "display_name": "Python 3",
   "language": "python",
   "name": "python3"
  },
  "language_info": {
   "codemirror_mode": {
    "name": "ipython",
    "version": 2
   },
   "file_extension": ".py",
   "mimetype": "text/x-python",
   "name": "python",
   "nbconvert_exporter": "python",
   "pygments_lexer": "ipython2",
   "version": "2.7.6"
  }
 },
 "nbformat": 4,
 "nbformat_minor": 5
}
