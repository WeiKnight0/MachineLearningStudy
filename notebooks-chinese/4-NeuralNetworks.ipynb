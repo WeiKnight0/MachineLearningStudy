{
 "cells": [
  {
   "metadata": {},
   "cell_type": "markdown",
   "source": [
    "\n",
    "# 神经网络 Neural Networks"
   ],
   "id": "ca553079a3d06639"
  },
  {
   "metadata": {},
   "cell_type": "markdown",
   "source": [
    "## 神经网路与大脑\n",
    "- 神经网络（Neural Networks）是一种受生物神经系统启发的计算模型。\n",
    "- 它由大量的节点（神经元）组成，这些节点通过连接（突触）相互作用。\n",
    "- 神经网络通过调整连接权重来学习和适应输入数据，从而实现模式识别、分类和预测等任务。\n",
    "- 神经网络的结构通常包括输入层、隐藏层和输出层，每一层由多个神经元组成。\n",
    "- 神经网络在图像识别、自然语言处理和游戏等领域取得了显著的成功，成为现代人工智能的重要组成部分。"
   ],
   "id": "acd6a94f27d8d5e5"
  },
  {
   "metadata": {},
   "cell_type": "markdown",
   "source": [
    "## 神经网络的基本结构\n",
    "- 神经网络由多个层次组成，主要包括输入层、隐藏层和输出层。\n",
    "- 输入层负责接收外部数据，将其传递给隐藏层进行处理。\n",
    "- 隐藏层包含多个神经元，这些神经元通过加权连接接收输入，并应用激活函数进行非线性变换。\n",
    "- 输出层将隐藏层的结果转换为最终输出，用于分类或回归任务。\n",
    "- 神经网络通过调整连接权重和偏置来学习数据中的模式，从而实现预测和决策。"
   ],
   "id": "c9e63c9774b90dc4"
  },
  {
   "metadata": {},
   "cell_type": "markdown",
   "source": [
    "## 神经网络层 Neural Network Layers\n",
    "- 神经网络由多个层次组成，每一层包含若干神经元。\n",
    "- 输入层（Input Layer）负责接收外部数据，将其传递给隐藏层进行处理。\n",
    "    - 输入层又叫第0层\n",
    "    - 输入层是一个向量$\\mathbf{x} = [x_1, x_2, \\ldots, x_n]$，表示输入特征\n",
    "- 隐藏层（Hidden Layer）位于输入层和输出层之间，负责对输入数据进行复杂的非线性变换。\n",
    "    - 隐藏层可以有多个，称作第1层、第2层等\n",
    "    - 每个隐藏层包含若干神经元，每个神经元接收前一层的输出作为输入，输出称作激活值\n",
    "    - 用上标$[i]$表示第$i$层。例如，$\\mathbf{a}^{[1]} = [a_1^{[1]}, a_2^{[1]}, \\ldots, a_m^{[1]}]^\\mathsf{T}$表示第1层的激活值，$\\mathbf{w}_j^{[i]}$表示第$i$层第$j$个神经元的权重向量元的权重向量\n",
    "- 输出层（Output Layer）负责生成最终的预测结果。\n",
    "    - 输出层的结构取决于具体任务，例如分类任务中输出层通常包含多个神经元，每个神经元对应一个类别\n",
    "    - ![](./assets/nnlayer.png)\n",
    "        - 这里的$g$表示Sigmoid函数，即$\\sigma(z)$\n",
    "- 注意：上下标别搞混了\n",
    "    - 例如：$\\mathbf{a}^{[2]}$是第3层的输入，$\\mathbf{a}^{[3]}$是第3层的输出，若第4个神经元是逻辑回归，则\n",
    "      $$a_4^{[3]} = \\sigma(\\mathbf{w}_4^{[3]} \\cdot a_4^{[2]} + b_4)$$\n",
    "- 综上，有公式：\n",
    "$$a_j^{[i]} = g(\\mathbf{w}_j^{[i]} \\cdot \\mathbf{a}^{[i-1]} + b_j^{[i]})$$\n",
    "规定$\\mathbf{a}^{[0]} = \\mathbf{x}$，即输入层的激活值就是输入特征"
   ],
   "id": "11e585b7b6c6b46c"
  },
  {
   "metadata": {},
   "cell_type": "markdown",
   "source": [
    "## 预测与前向传播\n",
    "- 神经网络通过前向传播（Forward Propagation）过程进行预测。\n",
    "- 在前向传播过程中，输入数据通过各层神经元进行加权求和，并应用激活函数生成输出。\n",
    "- 每个神经元的输出作为下一层的输入，直到最终输出层生成预测结果。\n",
    "- 分为两步：\n",
    "    - 加权求和（Weighted Sum）：计算每个神经元的加权输入，即前一层的输出与当前层的权重矩阵相乘，再加上偏置项。\n",
    "    $$\n",
    "      z_j^{[i]} = \\mathbf{w}_j^{[i]} \\cdot \\mathbf{a}^{[i-1]} + b_j^{[i]}\n",
    "    $$\n",
    "    - 激活函数（Activation Function）：对加权输入应用非线性激活函数，生成当前层的输出。\n",
    "    $$\n",
    "      a_j^{[i]} = g(z_j^{[i]})\n",
    "    $$\n",
    "- 通过不断调整权重和偏置，神经网络能够学习数据中的复杂模式，实现准确的预测。\n"
   ],
   "id": "576753a25f6c3368"
  },
  {
   "metadata": {},
   "cell_type": "markdown",
   "source": [
    "## 代码实现前向传播\n",
    "例子："
   ],
   "id": "fd67c9f65cc9d41d"
  }
 ],
 "metadata": {
  "kernelspec": {
   "display_name": "Python 3",
   "language": "python",
   "name": "python3"
  },
  "language_info": {
   "codemirror_mode": {
    "name": "ipython",
    "version": 2
   },
   "file_extension": ".py",
   "mimetype": "text/x-python",
   "name": "python",
   "nbconvert_exporter": "python",
   "pygments_lexer": "ipython2",
   "version": "2.7.6"
  }
 },
 "nbformat": 4,
 "nbformat_minor": 5
}
