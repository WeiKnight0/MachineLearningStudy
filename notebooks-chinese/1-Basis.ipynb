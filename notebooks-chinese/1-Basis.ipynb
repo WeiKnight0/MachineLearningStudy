{
 "cells": [
  {
   "metadata": {},
   "cell_type": "markdown",
   "source": "# 机器学习基础 Basis",
   "id": "1c757f11a67b8c2d"
  },
  {
   "metadata": {},
   "cell_type": "markdown",
   "source": [
    "## 典型的机器学习过程\n",
    "1. 训练数据收集与预处理\n",
    "2. 模型选择与训练：使用学习算法\n",
    "3. 用模型进行预测\n",
    "4. 模型评估与调优"
   ],
   "id": "c68a0b3bb80a37bc"
  },
  {
   "metadata": {},
   "cell_type": "markdown",
   "source": [
    "## 计算机学习的理论：PAC学习\n",
    "- Probably Approximately Correct Learning\n",
    "- 目标：在多大概率下，学习到的模型与真实模型的误差在某个范围内\n",
    "$$\n",
    "    P(|f(x)-y|\\leq \\varepsilon) \\geq 1-\\delta\n",
    "$$"
   ],
   "id": "56a2e05b348145eb"
  },
  {
   "metadata": {},
   "cell_type": "markdown",
   "source": [
    "## 机器学习术语\n",
    "\n",
    "### 模型术语\n",
    "- 标签（Label）\n",
    "- 数据集（Dataset）\n",
    "- 训练集（Training Set）；训练（Training）\n",
    "- 测试集（Test Set）；测试（Testing）\n",
    "    - 测试数据不能用于训练模型\n",
    "- 示例（Example）/样例（Example）\n",
    "    - 区别于示例不包含标签（Label）\n",
    "- 属性（Attribute）/特征（Feature）/属性值（Feature Value）\n",
    "- 属性空间/样本空间/输入空间（Input Space）\n",
    "    - 同一个词\n",
    "- 标记空间/输出空间（Output Space）\n",
    "    - 同一个词\n",
    "- 特征向量（Feature Vector）\n",
    "\n",
    "### 学习术语\n",
    "- 假设（Hypothesis）\n",
    "- 真相（Ground Truth）\n",
    "- 学习器（Learner）\n",
    "\n",
    "### 输出术语\n",
    "- 分类（Classification）\n",
    "- 回归（Regression）\n",
    "- 二分类（Binary Classification）\n",
    "- 多分类（Multi-class Classification）\n",
    "- 正类（Positive Class）\n",
    "- 负类（Negative Class）\n",
    "\n",
    "### 任务术语\n",
    "- 有监督学习（Supervised Learning）\n",
    "- 无监督学习（Unsupervised Learning）"
   ],
   "id": "4c21d8bd4868523"
  },
  {
   "metadata": {},
   "cell_type": "markdown",
   "source": [
    "## 假设空间\n",
    "- 假设空间（Hypothesis Space）：所有可能的假设（模型）的集合\n",
    "- 目标：找到一个最优假设，使其在给定的训练集上表现良好\n"
   ],
   "id": "b5abc4df3bfd372a"
  }
 ],
 "metadata": {
  "kernelspec": {
   "display_name": "Python 3 (ipykernel)",
   "language": "python",
   "name": "python3"
  },
  "language_info": {
   "codemirror_mode": {
    "name": "ipython",
    "version": 3
   },
   "file_extension": ".py",
   "mimetype": "text/x-python",
   "name": "python",
   "nbconvert_exporter": "python",
   "pygments_lexer": "ipython3",
   "version": "3.13.7"
  }
 },
 "nbformat": 4,
 "nbformat_minor": 5
}
